{
 "cells": [
  {
   "cell_type": "markdown",
   "metadata": {},
   "source": [
    "---\n",
    "\n",
    "_You are currently looking at **version 1.1** of this notebook. To download notebooks and datafiles, as well as get help on Jupyter notebooks in the Coursera platform, visit the [Jupyter Notebook FAQ](https://www.coursera.org/learn/python-social-network-analysis/resources/yPcBs) course resource._\n",
    "\n",
    "---"
   ]
  },
  {
   "cell_type": "markdown",
   "metadata": {},
   "source": [
    "# Assignment 1 - Creating and Manipulating Graphs\n",
    "\n",
    "Eight employees at a small company were asked to choose 3 movies that they would most enjoy watching for the upcoming company movie night. These choices are stored in the file `Employee_Movie_Choices.txt`.\n",
    "\n",
    "A second file, `Employee_Relationships.txt`, has data on the relationships between different coworkers. \n",
    "\n",
    "The relationship score has value of `-100` (Enemies) to `+100` (Best Friends). A value of zero means the two employees haven't interacted or are indifferent.\n",
    "\n",
    "Both files are tab delimited."
   ]
  },
  {
   "cell_type": "code",
   "execution_count": 3,
   "metadata": {},
   "outputs": [
    {
     "name": "stdout",
     "output_type": "stream",
     "text": [
      "#Employee\tMovie\r\n",
      "Andy\tAnaconda\r\n",
      "Andy\tMean Girls\r\n",
      "Andy\tThe Matrix\r\n",
      "Claude\tAnaconda\r\n",
      "Claude\tMonty Python and the Holy Grail\r\n",
      "Claude\tSnakes on a Plane\r\n",
      "Frida\tThe Matrix\r\n",
      "Frida\tThe Shawshank Redemption\r\n",
      "Frida\tThe Social Network\r\n",
      "Georgia\tAnaconda\r\n",
      "Georgia\tMonty Python and the Holy Grail\r\n",
      "Georgia\tSnakes on a Plane\r\n",
      "Joan\tForrest Gump\r\n",
      "Joan\tKung Fu Panda\r\n",
      "Joan\tMean Girls\r\n",
      "Lee\tForrest Gump\r\n",
      "Lee\tKung Fu Panda\r\n",
      "Lee\tMean Girls\r\n",
      "Pablo\tThe Dark Knight\r\n",
      "Pablo\tThe Matrix\r\n",
      "Pablo\tThe Shawshank Redemption\r\n",
      "Vincent\tThe Godfather\r\n",
      "Vincent\tThe Shawshank Redemption\r\n",
      "Vincent\tThe Social Network\r\n"
     ]
    }
   ],
   "source": [
    "import networkx as nx\n",
    "import pandas as pd\n",
    "import numpy as np\n",
    "from networkx.algorithms import bipartite\n",
    "\n",
    "\n",
    "# This is the set of employees\n",
    "employees = set(['Pablo',\n",
    "                 'Lee',\n",
    "                 'Georgia',\n",
    "                 'Vincent',\n",
    "                 'Andy',\n",
    "                 'Frida',\n",
    "                 'Joan',\n",
    "                 'Claude'])\n",
    "\n",
    "# This is the set of movies\n",
    "movies = set(['The Shawshank Redemption',\n",
    "              'Forrest Gump',\n",
    "              'The Matrix',\n",
    "              'Anaconda',\n",
    "              'The Social Network',\n",
    "              'The Godfather',\n",
    "              'Monty Python and the Holy Grail',\n",
    "              'Snakes on a Plane',\n",
    "              'Kung Fu Panda',\n",
    "              'The Dark Knight',\n",
    "              'Mean Girls'])\n",
    "\n",
    "\n",
    "# you can use the following function to plot graphs\n",
    "# make sure to comment it out before submitting to the autograder\n",
    "def plot_graph(G, weight_name=None):\n",
    "    '''\n",
    "    G: a networkx G\n",
    "    weight_name: name of the attribute for plotting edge weights (if G is weighted)\n",
    "    '''\n",
    "    %matplotlib notebook\n",
    "    import matplotlib.pyplot as plt\n",
    "    \n",
    "    plt.figure()\n",
    "    pos = nx.spring_layout(G)\n",
    "    edges = G.edges()\n",
    "    weights = None\n",
    "    \n",
    "    if weight_name:\n",
    "        weights = [int(G[u][v][weight_name]) for u,v in edges]\n",
    "        labels = nx.get_edge_attributes(G,weight_name)\n",
    "        nx.draw_networkx_edge_labels(G,pos,edge_labels=labels)\n",
    "        nx.draw_networkx(G, pos, edges=edges, width=weights);\n",
    "    else:\n",
    "        nx.draw_networkx(G, pos, edges=edges);"
   ]
  },
  {
   "cell_type": "markdown",
   "metadata": {},
   "source": [
    "### Question 1\n",
    "\n",
    "Using NetworkX, load in the bipartite graph from `Employee_Movie_Choices.txt` and return that graph.\n",
    "\n",
    "*This function should return a networkx graph with 19 nodes and 24 edges*"
   ]
  },
  {
   "cell_type": "code",
   "execution_count": 41,
   "metadata": {},
   "outputs": [
    {
     "data": {
      "text/plain": [
       "['Andy',\n",
       " 'Anaconda',\n",
       " 'Mean Girls',\n",
       " 'The Matrix',\n",
       " 'Claude',\n",
       " 'Monty Python and the Holy Grail',\n",
       " 'Snakes on a Plane',\n",
       " 'Frida',\n",
       " 'The Shawshank Redemption',\n",
       " 'The Social Network',\n",
       " 'Georgia',\n",
       " 'Joan',\n",
       " 'Forrest Gump',\n",
       " 'Kung Fu Panda',\n",
       " 'Lee',\n",
       " 'Pablo',\n",
       " 'The Dark Knight',\n",
       " 'Vincent',\n",
       " 'The Godfather']"
      ]
     },
     "execution_count": 41,
     "metadata": {},
     "output_type": "execute_result"
    }
   ],
   "source": [
    "def answer_one():\n",
    "        \n",
    "    # Your Code Here\n",
    "    graph_data = pd.read_csv('Employee_Movie_Choices.txt', sep='\\t', header=0)\n",
    "    \n",
    "    G = nx.from_pandas_dataframe(graph_data, '#Employee', 'Movie')\n",
    "    return G # Your Answer Here\n",
    "# answer_one().nodes()\n"
   ]
  },
  {
   "cell_type": "markdown",
   "metadata": {},
   "source": [
    "### Question 2\n",
    "\n",
    "Using the graph from the previous question, add nodes attributes named `'type'` where movies have the value `'movie'` and employees have the value `'employee'` and return that graph.\n",
    "\n",
    "*This function should return a networkx graph with node attributes `{'type': 'movie'}` or `{'type': 'employee'}`*"
   ]
  },
  {
   "cell_type": "code",
   "execution_count": 45,
   "metadata": {},
   "outputs": [
    {
     "data": {
      "text/plain": [
       "[('Andy', {'type': 'employee'}),\n",
       " ('Anaconda', {'type': 'movie'}),\n",
       " ('Mean Girls', {'type': 'movie'}),\n",
       " ('The Matrix', {'type': 'movie'}),\n",
       " ('Claude', {'type': 'employee'}),\n",
       " ('Monty Python and the Holy Grail', {'type': 'movie'}),\n",
       " ('Snakes on a Plane', {'type': 'movie'}),\n",
       " ('Frida', {'type': 'employee'}),\n",
       " ('The Shawshank Redemption', {'type': 'movie'}),\n",
       " ('The Social Network', {'type': 'movie'}),\n",
       " ('Georgia', {'type': 'employee'}),\n",
       " ('Joan', {'type': 'employee'}),\n",
       " ('Forrest Gump', {'type': 'movie'}),\n",
       " ('Kung Fu Panda', {'type': 'movie'}),\n",
       " ('Lee', {'type': 'employee'}),\n",
       " ('Pablo', {'type': 'employee'}),\n",
       " ('The Dark Knight', {'type': 'movie'}),\n",
       " ('Vincent', {'type': 'employee'}),\n",
       " ('The Godfather', {'type': 'movie'})]"
      ]
     },
     "execution_count": 45,
     "metadata": {},
     "output_type": "execute_result"
    }
   ],
   "source": [
    "def answer_two():\n",
    "    \n",
    "    # Your Code Here\n",
    "    G = answer_one()\n",
    "    nx.set_node_attributes(G, 'type', None)\n",
    "    for node in G.nodes():\n",
    "        G.node[node]['type'] = 'movie' if node in movies else 'employee'\n",
    "    return G # Your Answer Here\n",
    "# answer_two().nodes(data=True)"
   ]
  },
  {
   "cell_type": "markdown",
   "metadata": {
    "collapsed": true
   },
   "source": [
    "### Question 3\n",
    "\n",
    "Find a weighted projection of the graph from `answer_two` which tells us how many movies different pairs of employees have in common.\n",
    "\n",
    "*This function should return a weighted projected graph.*"
   ]
  },
  {
   "cell_type": "code",
   "execution_count": 74,
   "metadata": {},
   "outputs": [
    {
     "data": {
      "text/plain": [
       "1"
      ]
     },
     "execution_count": 74,
     "metadata": {},
     "output_type": "execute_result"
    }
   ],
   "source": [
    "def answer_three():\n",
    "        \n",
    "    # Your Code Here\n",
    "    G = answer_one()\n",
    "    G_b = bipartite.weighted_projected_graph(G, employees)\n",
    "    return G_b # Your Answer Here\n",
    "# answer_three().edge['Andy']['Georgia']['weight']"
   ]
  },
  {
   "cell_type": "markdown",
   "metadata": {
    "collapsed": true
   },
   "source": [
    "### Question 4\n",
    "\n",
    "Suppose you'd like to find out if people that have a high relationship score also like the same types of movies.\n",
    "\n",
    "Find the Pearson correlation ( using `DataFrame.corr()` ) between employee relationship scores and the number of movies they have in common. If two employees have no movies in common it should be treated as a 0, not a missing value, and should be included in the correlation calculation.\n",
    "\n",
    "*This function should return a float.*"
   ]
  },
  {
   "cell_type": "code",
   "execution_count": 85,
   "metadata": {},
   "outputs": [
    {
     "data": {
      "text/plain": [
       "0.78839622217334759"
      ]
     },
     "execution_count": 85,
     "metadata": {},
     "output_type": "execute_result"
    }
   ],
   "source": [
    "def get_num_common_movies(row, G):\n",
    "    return G.edge[row['first']][row['second']]['weight'] if G.has_edge(row['first'], row['second']) else 0\n",
    "\n",
    "def answer_four():\n",
    "        \n",
    "    # Your Code Here\n",
    "    G = answer_three()\n",
    "    graph_data = pd.read_csv('Employee_Relationships.txt', sep='\\t', header=None, names=['first', 'second', 'relationship'])\n",
    "    graph_data['movies_common'] = graph_data.apply(lambda x: get_num_common_movies(x, G), axis=1)\n",
    "    \n",
    "    return graph_data.corr()['movies_common'][0] # Your Answer Here\n",
    "# answer_four()"
   ]
  },
  {
   "cell_type": "code",
   "execution_count": null,
   "metadata": {
    "collapsed": true
   },
   "outputs": [],
   "source": []
  }
 ],
 "metadata": {
  "coursera": {
   "course_slug": "python-social-network-analysis",
   "graded_item_id": "YNa9b",
   "launcher_item_id": "hvNc1",
   "part_id": "VbyiB"
  },
  "kernelspec": {
   "display_name": "Python 3",
   "language": "python",
   "name": "python3"
  },
  "language_info": {
   "codemirror_mode": {
    "name": "ipython",
    "version": 3
   },
   "file_extension": ".py",
   "mimetype": "text/x-python",
   "name": "python",
   "nbconvert_exporter": "python",
   "pygments_lexer": "ipython3",
   "version": "3.6.2"
  }
 },
 "nbformat": 4,
 "nbformat_minor": 2
}
